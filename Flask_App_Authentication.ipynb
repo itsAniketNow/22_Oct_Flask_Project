{
  "nbformat": 4,
  "nbformat_minor": 0,
  "metadata": {
    "colab": {
      "provenance": []
    },
    "kernelspec": {
      "name": "python3",
      "display_name": "Python 3"
    },
    "language_info": {
      "name": "python"
    }
  },
  "cells": [
    {
      "cell_type": "code",
      "execution_count": null,
      "metadata": {
        "id": "aU-2A5LevooQ"
      },
      "outputs": [],
      "source": [
        "from flask import Flask, redirect, url_for, session\n",
        "from flask_dance.contrib.google import make_google_blueprint, google\n",
        "from flask_dance.contrib.facebook import make_facebook_blueprint, facebook\n",
        "\n",
        "app = Flask(__name__)\n",
        "app.secret_key = \"supersecretkey\"\n",
        "\n",
        "# Configure Google OAuth2\n",
        "google_bp = make_google_blueprint(client_id=\"your-google-client-id\",\n",
        "                                  client_secret=\"your-google-client-secret\",\n",
        "                                  redirect_to=\"google_login\")\n",
        "\n",
        "app.register_blueprint(google_bp, url_prefix=\"/login\")\n",
        "\n",
        "# Configure Facebook OAuth2\n",
        "facebook_bp = make_facebook_blueprint(client_id=\"your-facebook-client-id\",\n",
        "                                       client_secret=\"your-facebook-client-secret\",\n",
        "                                       redirect_to=\"facebook_login\")\n",
        "\n",
        "app.register_blueprint(facebook_bp, url_prefix=\"/login\")\n",
        "\n",
        "@app.route(\"/\")\n",
        "def index():\n",
        "    return \"Welcome to the Flask OAuth2 Example!\"\n",
        "\n",
        "@app.route(\"/login/google\")\n",
        "def login_google():\n",
        "    if not google.authorized:\n",
        "        return redirect(url_for(\"google.login\"))\n",
        "    resp = google.get(\"/oauth2/v2/userinfo\")\n",
        "    assert resp.ok, resp.text\n",
        "    return \"You are logged in as \" + resp.json()[\"email\"]\n",
        "\n",
        "@app.route(\"/login/facebook\")\n",
        "def login_facebook():\n",
        "    if not facebook.authorized:\n",
        "        return redirect(url_for(\"facebook.login\"))\n",
        "    resp = facebook.get(\"/me?fields=id,email\")\n",
        "    assert resp.ok, resp.text\n",
        "    return \"You are logged in as \" + resp.json()[\"email\"]\n",
        "\n",
        "if __name__ == \"__main__\":\n",
        "    app.run(debug=True)\n"
      ]
    }
  ]
}